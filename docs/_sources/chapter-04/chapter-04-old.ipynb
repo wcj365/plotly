{
 "cells": [
  {
   "cell_type": "markdown",
   "metadata": {},
   "source": [
    "# Chapter 4 - World Development Indicator"
   ]
  },
  {
   "cell_type": "markdown",
   "metadata": {},
   "source": [
    "**Data Source**\n",
    "- https://datacatalog.worldbank.org/dataset/world-development-indicators\n",
    "- https://unstats.un.org/unsd/methodology/m49/overview"
   ]
  },
  {
   "cell_type": "code",
   "execution_count": null,
   "metadata": {},
   "outputs": [],
   "source": [
    "import pandas as pd\n",
    "import plotly.express as px\n",
    "import plotly.graph_objs as go\n",
    "import plotly.io as pio"
   ]
  },
  {
   "cell_type": "code",
   "execution_count": null,
   "metadata": {},
   "outputs": [],
   "source": [
    "df = pd.read_csv(\"../data/WDIData.csv\")\n",
    "df.shape"
   ]
  },
  {
   "cell_type": "code",
   "execution_count": null,
   "metadata": {},
   "outputs": [],
   "source": [
    "df.sample(5)"
   ]
  },
  {
   "cell_type": "markdown",
   "metadata": {},
   "source": [
    "**Drop the last unuseful column**"
   ]
  },
  {
   "cell_type": "code",
   "execution_count": null,
   "metadata": {},
   "outputs": [],
   "source": [
    "df.drop(columns=df.columns[-1], inplace=True)\n",
    "df.sample(1)"
   ]
  },
  {
   "cell_type": "markdown",
   "metadata": {},
   "source": [
    "**Find out how many unique indicators**"
   ]
  },
  {
   "cell_type": "code",
   "execution_count": null,
   "metadata": {},
   "outputs": [],
   "source": [
    "df[\"Indicator Code\"].nunique()"
   ]
  },
  {
   "cell_type": "markdown",
   "metadata": {},
   "source": [
    "**1,440 indicators are a lot. Save them to a file for reference**"
   ]
  },
  {
   "cell_type": "code",
   "execution_count": null,
   "metadata": {},
   "outputs": [],
   "source": [
    "df[[\"Indicator Name\", \"Indicator Code\"]].drop_duplicates().to_csv(\"indicators.csv\", index=False)"
   ]
  },
  {
   "cell_type": "markdown",
   "metadata": {},
   "source": [
    "**Eye ball the file and pick the three indicators of interest:**\n",
    "- SP.DYN.LE00.IN\n",
    "    - Life expectancy at birth, total (years)\n",
    "- NY.GDP.PCAP.PP.CD\n",
    "    - GDP per capita, PPP (current international $)\n",
    "- SP.POP.TOTL\n",
    "    - Population, total "
   ]
  },
  {
   "cell_type": "markdown",
   "metadata": {},
   "source": [
    "**Filter the data for GDP per capita**"
   ]
  },
  {
   "cell_type": "code",
   "execution_count": null,
   "metadata": {},
   "outputs": [],
   "source": [
    "df_gdp = df[df[\"Indicator Code\"] == \"NY.GDP.PCAP.PP.CD\"]\n",
    "df_gdp.shape"
   ]
  },
  {
   "cell_type": "code",
   "execution_count": null,
   "metadata": {},
   "outputs": [],
   "source": [
    "df_gdp.head(2)"
   ]
  },
  {
   "cell_type": "markdown",
   "metadata": {},
   "source": [
    "**Melt the dataframe for easy analysis**"
   ]
  },
  {
   "cell_type": "code",
   "execution_count": null,
   "metadata": {},
   "outputs": [],
   "source": [
    "df_gdp_melted = df_gdp.melt(id_vars=df_gdp.columns[:4], \n",
    "                            value_vars=df_gdp.columns[4:], \n",
    "                            var_name=\"Year\", \n",
    "                            value_name='GDP Per Capita')\n",
    "df_gdp_melted.sample(5)"
   ]
  },
  {
   "cell_type": "markdown",
   "metadata": {},
   "source": [
    "**Drop the unnecessary columns**"
   ]
  },
  {
   "cell_type": "code",
   "execution_count": null,
   "metadata": {},
   "outputs": [],
   "source": [
    "df_gdp_melted.drop(columns=[\"Indicator Name\", \"Indicator Code\"], inplace=True)\n",
    "df_gdp_melted.sample(2)"
   ]
  },
  {
   "cell_type": "markdown",
   "metadata": {},
   "source": [
    "**Filter the data for life expectancy**"
   ]
  },
  {
   "cell_type": "code",
   "execution_count": null,
   "metadata": {},
   "outputs": [],
   "source": [
    "df_life = df[df[\"Indicator Code\"] == \"SP.DYN.LE00.IN\"]\n",
    "df_life.shape"
   ]
  },
  {
   "cell_type": "code",
   "execution_count": null,
   "metadata": {},
   "outputs": [],
   "source": [
    "df_life.head(2)"
   ]
  },
  {
   "cell_type": "markdown",
   "metadata": {},
   "source": [
    "**Melt the dataframe for easy analysis**"
   ]
  },
  {
   "cell_type": "code",
   "execution_count": null,
   "metadata": {},
   "outputs": [],
   "source": [
    "df_life_melted = df_life.melt(id_vars=df_life.columns[:4], \n",
    "                              value_vars=df_life.columns[4:], \n",
    "                              var_name=\"Year\", \n",
    "                              value_name='Life Expectancy')\n",
    "df_life_melted.sample(5)"
   ]
  },
  {
   "cell_type": "markdown",
   "metadata": {},
   "source": [
    "**Drop the unnecessary columns**"
   ]
  },
  {
   "cell_type": "code",
   "execution_count": null,
   "metadata": {},
   "outputs": [],
   "source": [
    "df_life_melted.drop(columns=[\"Indicator Name\", \"Indicator Code\"], inplace=True)\n",
    "df_life_melted.sample(2)"
   ]
  },
  {
   "cell_type": "markdown",
   "metadata": {},
   "source": [
    "**Merge the two data frames**"
   ]
  },
  {
   "cell_type": "code",
   "execution_count": null,
   "metadata": {},
   "outputs": [],
   "source": [
    "df_merged = pd.merge(df_gdp_melted, \n",
    "                     df_life_melted, \n",
    "                     left_on=[\"Country Name\",\"Country Code\",\"Year\"],\n",
    "                     right_on=[\"Country Name\",\"Country Code\",\"Year\"]\n",
    "                    )\n",
    "df_merged.sample(5)"
   ]
  },
  {
   "cell_type": "markdown",
   "metadata": {},
   "source": [
    "**Filter the data for Population**"
   ]
  },
  {
   "cell_type": "code",
   "execution_count": null,
   "metadata": {},
   "outputs": [],
   "source": [
    "df_pop = df[df[\"Indicator Code\"] == \"SP.POP.TOTL\"]\n",
    "df_pop.shape"
   ]
  },
  {
   "cell_type": "code",
   "execution_count": null,
   "metadata": {},
   "outputs": [],
   "source": [
    "df_pop.sample(2)"
   ]
  },
  {
   "cell_type": "markdown",
   "metadata": {},
   "source": [
    "**Melt the dataframe for easy analysis**"
   ]
  },
  {
   "cell_type": "code",
   "execution_count": null,
   "metadata": {},
   "outputs": [],
   "source": [
    "df_pop_melted = df_pop.melt(id_vars=df_pop.columns[:4], \n",
    "                            value_vars=df_pop.columns[4:], \n",
    "                            var_name=\"Year\", \n",
    "                            value_name='Population')\n",
    "df_pop_melted.sample(5)"
   ]
  },
  {
   "cell_type": "markdown",
   "metadata": {},
   "source": [
    "**Drop the unnecessary columns**"
   ]
  },
  {
   "cell_type": "code",
   "execution_count": null,
   "metadata": {},
   "outputs": [],
   "source": [
    "df_pop_melted.drop(columns=[\"Indicator Name\", \"Indicator Code\"], inplace=True)\n",
    "df_pop_melted.sample(2)"
   ]
  },
  {
   "cell_type": "markdown",
   "metadata": {},
   "source": [
    "**Merge the two data frames**"
   ]
  },
  {
   "cell_type": "code",
   "execution_count": null,
   "metadata": {},
   "outputs": [],
   "source": [
    "df_merged2 = pd.merge(df_merged, \n",
    "                      df_pop_melted, \n",
    "                      left_on=[\"Country Name\",\"Country Code\",\"Year\"],\n",
    "                      right_on=[\"Country Name\",\"Country Code\",\"Year\"]\n",
    "                     )\n",
    "df_merged2.sample(5)"
   ]
  },
  {
   "cell_type": "code",
   "execution_count": null,
   "metadata": {},
   "outputs": [],
   "source": [
    "df_merged3 = df_merged2[df_merged2[\"Population\"].notnull()]"
   ]
  },
  {
   "cell_type": "code",
   "execution_count": null,
   "metadata": {},
   "outputs": [],
   "source": [
    "df_merged3.sample(10)"
   ]
  },
  {
   "cell_type": "code",
   "execution_count": null,
   "metadata": {},
   "outputs": [],
   "source": [
    "df_merged3.shape"
   ]
  },
  {
   "cell_type": "code",
   "execution_count": null,
   "metadata": {},
   "outputs": [],
   "source": [
    "df_merged3[df_merged3[\"Year\"] == \"2018\"].sample(10)"
   ]
  },
  {
   "cell_type": "markdown",
   "metadata": {},
   "source": [
    "## Add additional variables for regions and sub-regions"
   ]
  },
  {
   "cell_type": "code",
   "execution_count": null,
   "metadata": {},
   "outputs": [],
   "source": [
    "df_country = pd.read_csv(\"../data/country_regions.csv\")\n",
    "df_country.head()"
   ]
  },
  {
   "cell_type": "code",
   "execution_count": null,
   "metadata": {},
   "outputs": [],
   "source": [
    "df_country = df_country[[\"ISO-alpha3 Code\",\"Region Name\", \"Sub-region Name\", \"Country or Area\"]]\n",
    "df_country.sample(5)"
   ]
  },
  {
   "cell_type": "code",
   "execution_count": null,
   "metadata": {},
   "outputs": [],
   "source": [
    "df_merged4 = pd.merge(df_merged3, df_country, \n",
    "                      left_on=[\"Country Code\"],\n",
    "                      right_on=[\"ISO-alpha3 Code\"],\n",
    "                      how=\"left\"\n",
    "                     )\n",
    "df_merged4.sample(5)"
   ]
  },
  {
   "cell_type": "code",
   "execution_count": null,
   "metadata": {},
   "outputs": [],
   "source": [
    "df_merged4.shape"
   ]
  },
  {
   "cell_type": "code",
   "execution_count": null,
   "metadata": {},
   "outputs": [],
   "source": [
    "df_merged4[\"Region Name\"].unique()"
   ]
  },
  {
   "cell_type": "code",
   "execution_count": null,
   "metadata": {},
   "outputs": [],
   "source": [
    "df_merged4[\"Sub-region Name\"].unique()"
   ]
  },
  {
   "cell_type": "code",
   "execution_count": null,
   "metadata": {},
   "outputs": [],
   "source": [
    "df_merged4[df_merged4[\"Sub-region Name\"].isna()]"
   ]
  },
  {
   "cell_type": "code",
   "execution_count": null,
   "metadata": {},
   "outputs": [],
   "source": [
    "df_merged4[df_merged4[\"Sub-region Name\"].isna()][\"Country Name\"].unique()"
   ]
  },
  {
   "cell_type": "code",
   "execution_count": null,
   "metadata": {},
   "outputs": [],
   "source": [
    "df_merged5 = df_merged4[df_merged4[\"Sub-region Name\"].notnull()]\n",
    "df_merged5.shape"
   ]
  },
  {
   "cell_type": "code",
   "execution_count": null,
   "metadata": {},
   "outputs": [],
   "source": [
    "fig = px.scatter(df_merged5[df_merged5[\"Year\"] == \"2018\"], \n",
    "                 x=\"GDP Per Capita\", \n",
    "                 y=\"Life Expectancy\",\n",
    "                 color=\"Sub-region Name\",\n",
    "                 size=\"Population\",\n",
    "                 hover_data=[\"Country Code\", \"Country Name\", \"Sub-region Name\"]\n",
    ")\n",
    "\n",
    "#fig.show()\n",
    "fig"
   ]
  },
  {
   "cell_type": "code",
   "execution_count": null,
   "metadata": {},
   "outputs": [],
   "source": [
    "#fig.write_html(\"scatter.html\")"
   ]
  },
  {
   "cell_type": "markdown",
   "metadata": {},
   "source": [
    "## A different Approach"
   ]
  },
  {
   "cell_type": "code",
   "execution_count": null,
   "metadata": {},
   "outputs": [],
   "source": [
    "indicator_codes = [\"SP.DYN.LE00.IN\",\"NY.GDP.PCAP.PP.CD\",\"SP.POP.TOTL\"]\n",
    "df2 = df[df[\"Indicator Code\"].isin(indicator_codes)]\n",
    "df2.shape"
   ]
  },
  {
   "cell_type": "code",
   "execution_count": null,
   "metadata": {},
   "outputs": [],
   "source": [
    "df_list = []\n",
    "for code in indicator_codes:\n",
    "    _df = df2[df2[\"Indicator Code\"] == code]\n",
    "    _df_melted = _df.melt(id_vars=_df.columns[:4], \n",
    "                                 value_vars=_df.columns[4:], \n",
    "                                 var_name=\"Year\", \n",
    "                                 value_name=code)\n",
    "    _df_melted.drop(columns=[\"Indicator Name\", \"Indicator Code\"], inplace=True) \n",
    "    df_list.append(_df_melted)\n",
    "\n",
    "df_all = pd.concat(df_list, axis=1)\n",
    "df_all.shape"
   ]
  },
  {
   "cell_type": "code",
   "execution_count": null,
   "metadata": {},
   "outputs": [],
   "source": [
    "df_all.sample(5)"
   ]
  },
  {
   "cell_type": "code",
   "execution_count": null,
   "metadata": {},
   "outputs": [],
   "source": [
    "df_all2 = df_all.iloc[:,[0,1,2,3,7,11]]\n",
    "df_all2.head()"
   ]
  },
  {
   "cell_type": "code",
   "execution_count": null,
   "metadata": {},
   "outputs": [],
   "source": [
    "df_all3 = df_all2[df_all2[\"SP.POP.TOTL\"].notnull()]\n",
    "df_all3.shape"
   ]
  },
  {
   "cell_type": "code",
   "execution_count": null,
   "metadata": {},
   "outputs": [],
   "source": [
    "df_all4 = pd.merge(df_all3, df_country, \n",
    "                   left_on=[\"Country Code\"],\n",
    "                   right_on=[\"ISO-alpha3 Code\"],\n",
    "                   how=\"left\"\n",
    "                   )\n",
    "\n",
    "df_all4.sample(5)"
   ]
  },
  {
   "cell_type": "code",
   "execution_count": null,
   "metadata": {},
   "outputs": [],
   "source": [
    "df_all4.shape"
   ]
  },
  {
   "cell_type": "code",
   "execution_count": null,
   "metadata": {},
   "outputs": [],
   "source": [
    "df_all5 = df_all4[df_all4[\"Sub-region Name\"].notnull()]\n",
    "df_all5.shape"
   ]
  },
  {
   "cell_type": "code",
   "execution_count": null,
   "metadata": {},
   "outputs": [],
   "source": [
    "fig2 = px.scatter(df_all5[df_all5[\"Year\"] == \"2018\"],\n",
    "                 x=\"NY.GDP.PCAP.PP.CD\", \n",
    "                 y=\"SP.DYN.LE00.IN\",\n",
    "                 color=\"Sub-region Name\",\n",
    "                 size=\"SP.POP.TOTL\",\n",
    "                 hover_data=[\"Country Code\", \"Country Name\"]\n",
    "                )\n",
    "\n",
    "fig2.show()"
   ]
  },
  {
   "cell_type": "code",
   "execution_count": null,
   "metadata": {},
   "outputs": [],
   "source": [
    "#fig2.write_html(\"scatter2.html\")"
   ]
  },
  {
   "cell_type": "code",
   "execution_count": null,
   "metadata": {},
   "outputs": [],
   "source": [
    "fig = px.choropleth(df_all5[df_all5[\"Year\"] == \"2018\"],  \n",
    "                    locations='Country Code', \n",
    "                    color='SP.POP.TOTL',\n",
    "                    color_continuous_scale=\"Viridis\",\n",
    "                    scope=\"world\",\n",
    "                    hover_name=\"Country Name\"\n",
    "#                    locationmode = 'USA-states',\n",
    "#                    labels={'ST':'State'}\n",
    ")\n",
    "\n",
    "#fig.update_layout(margin={\"r\":0,\"t\":0,\"l\":0,\"b\":0})\n",
    "fig.show()"
   ]
  },
  {
   "cell_type": "code",
   "execution_count": null,
   "metadata": {},
   "outputs": [],
   "source": [
    "fig.write_html(\"choropleth.html\")"
   ]
  },
  {
   "cell_type": "code",
   "execution_count": null,
   "metadata": {},
   "outputs": [],
   "source": []
  }
 ],
 "metadata": {
  "kernelspec": {
   "display_name": "Python 3",
   "language": "python",
   "name": "python3"
  },
  "language_info": {
   "codemirror_mode": {
    "name": "ipython",
    "version": 3
   },
   "file_extension": ".py",
   "mimetype": "text/x-python",
   "name": "python",
   "nbconvert_exporter": "python",
   "pygments_lexer": "ipython3",
   "version": "3.8.6"
  }
 },
 "nbformat": 4,
 "nbformat_minor": 4
}
