{
  "cells": [
    {
      "cell_type": "markdown",
      "source": "# Appendix A - Python Refresher",
      "metadata": {
        "cell_id": "00000-bbadd162-3dfd-4d6a-9d38-709f0ea104bf",
        "deepnote_cell_type": "markdown"
      }
    },
    {
      "cell_type": "markdown",
      "source": "|                | Static     | Interactive |\n|----------------|------------|-------------|\n|**Low-level**   | Matplotlib | Plotly      | \n|**High-level**  | Seaborn    | Plotly Express, Altair, Bokeh | ",
      "metadata": {
        "tags": [],
        "cell_id": "00001-f25d4f01-8375-44fd-abe8-440fd536bc88",
        "deepnote_cell_type": "markdown"
      }
    },
    {
      "cell_type": "markdown",
      "source": "This appendix provides a real-world example of data processing and can be used to test or refresh your Python knowledge.\n\nFDA publishes medical device recalls dataset on regular basis. Thedata set has a field called \"event_date_initiated\". \nThis is the date when a medical device recall is initiated. We extracted this field and saved the data to the file event_date_initiated.csv for exploration and processing.\n\nThis example uses the following Python basic concepts:\n- File input and output\n    - Read data from  a text file\n    - Write data to a text file\n- if/elif control flow\n- for loops\n- String operations \n    - split()\n    - strip()\n    - replace()\n    - startswith()\n    - indexing\n- List operation \n    - append()\n    - join()\n    - indexing\n- List comprehension\n- Set \n    - Members in a set must be unique\n    - convert a list to a set \n- f-string substitution\n- build-in functions\n    - Print()\n    - len()\n    - type()\n    - range(start, stop, step)",
      "metadata": {
        "cell_id": "00001-4cbe01a0-eda7-4c5f-9ade-88da71645363",
        "deepnote_cell_type": "markdown"
      }
    },
    {
      "cell_type": "markdown",
      "source": "## 1. Basic Data Exploration",
      "metadata": {
        "cell_id": "00002-0927c66d-cc4f-469d-a16c-b1520556e387",
        "deepnote_cell_type": "markdown"
      }
    },
    {
      "cell_type": "markdown",
      "source": "**Read the file and assign the lines to a list.**\n- Option \"r\" for read\n- Option \"t\" for text",
      "metadata": {
        "cell_id": "00003-0fcb1f27-8e4f-4578-ac77-9ba141c31f66",
        "deepnote_cell_type": "markdown"
      }
    },
    {
      "cell_type": "code",
      "metadata": {
        "cell_id": "00004-27d0215d-a5f4-48c5-be50-5b195d0ba866",
        "deepnote_cell_type": "code"
      },
      "source": "with open(\"../data/event_date_initiated.csv\", \"rt\") as f:\n    date_list = f.readlines() ",
      "execution_count": 42,
      "outputs": []
    },
    {
      "cell_type": "markdown",
      "source": "**Find out what type of object the date_list is**",
      "metadata": {
        "cell_id": "00005-caff1302-24c3-4b66-b6f1-753a2b527a0f",
        "deepnote_cell_type": "markdown"
      }
    },
    {
      "cell_type": "code",
      "metadata": {
        "cell_id": "00006-ed9e0424-2690-403f-87af-175578c19f5e",
        "deepnote_cell_type": "code"
      },
      "source": "type(date_list)",
      "execution_count": 43,
      "outputs": [
        {
          "data": {
            "text/plain": "list"
          },
          "execution_count": 43,
          "metadata": {},
          "output_type": "execute_result"
        }
      ]
    },
    {
      "cell_type": "markdown",
      "source": "**Find out the number of elements in the list**",
      "metadata": {
        "cell_id": "00007-e28b1076-1b57-4ea0-9eeb-971980dd9069",
        "deepnote_cell_type": "markdown"
      }
    },
    {
      "cell_type": "code",
      "metadata": {
        "cell_id": "00008-680b2999-bdea-4db2-801c-fefed755028f",
        "deepnote_cell_type": "code"
      },
      "source": "len(date_list)",
      "execution_count": 44,
      "outputs": [
        {
          "data": {
            "text/plain": "43750"
          },
          "execution_count": 44,
          "metadata": {},
          "output_type": "execute_result"
        }
      ]
    },
    {
      "cell_type": "markdown",
      "source": "**Display the first five elements**",
      "metadata": {
        "cell_id": "00009-384045e8-8dfe-4e9e-96c7-87d057ba9260",
        "deepnote_cell_type": "markdown"
      }
    },
    {
      "cell_type": "code",
      "metadata": {
        "cell_id": "00010-e96c5dba-4d69-4502-8a2e-345f69c3d481",
        "deepnote_cell_type": "code"
      },
      "source": "date_list[:5]",
      "execution_count": 45,
      "outputs": [
        {
          "data": {
            "text/plain": "['event_date_initiated\\n',\n '2002-12-26\\n',\n '2003-03-25\\n',\n '2003-03-25\\n',\n '2004-01-27\\n']"
          },
          "execution_count": 45,
          "metadata": {},
          "output_type": "execute_result"
        }
      ]
    },
    {
      "cell_type": "markdown",
      "source": "**Ignore the first element**",
      "metadata": {
        "cell_id": "00011-aae2c281-23f1-429f-9021-8deea0512bea",
        "deepnote_cell_type": "markdown"
      }
    },
    {
      "cell_type": "code",
      "metadata": {
        "cell_id": "00012-31c7996b-0bf9-44d3-997f-186744bc640b",
        "deepnote_cell_type": "code"
      },
      "source": "date_list = date_list[1:]\ndate_list[:5]",
      "execution_count": 46,
      "outputs": [
        {
          "data": {
            "text/plain": "['2002-12-26\\n',\n '2003-03-25\\n',\n '2003-03-25\\n',\n '2004-01-27\\n',\n '2003-12-10\\n']"
          },
          "execution_count": 46,
          "metadata": {},
          "output_type": "execute_result"
        }
      ]
    },
    {
      "cell_type": "markdown",
      "source": "**Display the last five elements**",
      "metadata": {
        "cell_id": "00013-6ee806b2-3e1e-491f-b5aa-386fc5b8e496",
        "deepnote_cell_type": "markdown"
      }
    },
    {
      "cell_type": "code",
      "metadata": {
        "cell_id": "00014-fe0404ec-6372-4501-b5b2-78c8afcf057a",
        "deepnote_cell_type": "code"
      },
      "source": "date_list[-5:]",
      "execution_count": 47,
      "outputs": [
        {
          "data": {
            "text/plain": "['2020-09-09\\n',\n '2020-07-06\\n',\n '2020-01-17\\n',\n '2020-05-28\\n',\n '2020-08-20\\n']"
          },
          "execution_count": 47,
          "metadata": {},
          "output_type": "execute_result"
        }
      ]
    },
    {
      "cell_type": "markdown",
      "source": "**Remove the new line \"\\n\" using List Comprehension**",
      "metadata": {
        "cell_id": "00015-464dbd64-e126-4eaa-b6b4-4c4c0b8a1e40",
        "deepnote_cell_type": "markdown"
      }
    },
    {
      "cell_type": "code",
      "metadata": {
        "cell_id": "00016-7e370561-5e7a-4332-a57d-62a502b76c01",
        "deepnote_cell_type": "code"
      },
      "source": "date_list = [x.strip(\"\\n\") for x in date_list]\ndate_list[:5]",
      "execution_count": 48,
      "outputs": [
        {
          "data": {
            "text/plain": "['2002-12-26', '2003-03-25', '2003-03-25', '2004-01-27', '2003-12-10']"
          },
          "execution_count": 48,
          "metadata": {},
          "output_type": "execute_result"
        }
      ]
    },
    {
      "cell_type": "markdown",
      "source": "## 2. Find out the time span (unique years)",
      "metadata": {
        "cell_id": "00017-3c039dd0-7016-4f9b-8bf6-4ceec18d86b3",
        "deepnote_cell_type": "markdown"
      }
    },
    {
      "cell_type": "markdown",
      "source": "**Extract the year from the date**",
      "metadata": {
        "cell_id": "00018-9cbd0603-44f8-412c-a76c-b8665cad5e2e",
        "deepnote_cell_type": "markdown"
      }
    },
    {
      "cell_type": "code",
      "metadata": {
        "cell_id": "00019-730a1e1b-c0b2-4195-810d-a1f499a1ff22",
        "deepnote_cell_type": "code"
      },
      "source": "year_list = [x.split(\"-\")[0] for x in date_list]\nyear_list[:5]",
      "execution_count": 49,
      "outputs": [
        {
          "data": {
            "text/plain": "['2002', '2003', '2003', '2004', '2003']"
          },
          "execution_count": 49,
          "metadata": {},
          "output_type": "execute_result"
        }
      ]
    },
    {
      "cell_type": "code",
      "metadata": {
        "cell_id": "00020-2553c6bb-bb35-4a46-bd91-78d4bfc9c7b8",
        "deepnote_cell_type": "code"
      },
      "source": "len(year_list)",
      "execution_count": 50,
      "outputs": [
        {
          "data": {
            "text/plain": "43749"
          },
          "execution_count": 50,
          "metadata": {},
          "output_type": "execute_result"
        }
      ]
    },
    {
      "cell_type": "markdown",
      "source": "**Get unique years using set() function**",
      "metadata": {
        "cell_id": "00021-1ca91b74-9e15-4583-8c27-95369772ec2e",
        "deepnote_cell_type": "markdown"
      }
    },
    {
      "cell_type": "code",
      "metadata": {
        "cell_id": "00022-cebe728a-7513-4036-b325-c1cb7983df5b",
        "deepnote_cell_type": "code"
      },
      "source": "year_set = set(year_list)\nlen(year_set)",
      "execution_count": 51,
      "outputs": [
        {
          "data": {
            "text/plain": "26"
          },
          "execution_count": 51,
          "metadata": {},
          "output_type": "execute_result"
        }
      ]
    },
    {
      "cell_type": "code",
      "metadata": {
        "cell_id": "00023-432e75ff-f230-4708-963b-3ca6d2b5f2de",
        "deepnote_cell_type": "code"
      },
      "source": "year_set",
      "execution_count": 52,
      "outputs": [
        {
          "data": {
            "text/plain": "{'0010',\n '0012',\n '0013',\n '1997',\n '1998',\n '2000',\n '2001',\n '2002',\n '2003',\n '2004',\n '2005',\n '2006',\n '2007',\n '2008',\n '2009',\n '2010',\n '2011',\n '2012',\n '2013',\n '2014',\n '2015',\n '2016',\n '2017',\n '2018',\n '2019',\n '2020'}"
          },
          "execution_count": 52,
          "metadata": {},
          "output_type": "execute_result"
        }
      ]
    },
    {
      "cell_type": "markdown",
      "source": "**Replace the year 0010, 0012, 0013 with 2010, 2012, 2013**",
      "metadata": {
        "cell_id": "00024-b0f1065d-0aba-45f0-a54f-8bf8957c99b6",
        "deepnote_cell_type": "markdown"
      }
    },
    {
      "cell_type": "code",
      "metadata": {
        "cell_id": "00025-a08b7dfc-2a87-4efd-a86b-3343d0e059d2",
        "deepnote_cell_type": "code"
      },
      "source": "date_list2 = []\n\nfor init_date in date_list:\n    if init_date.startswith(\"00\"):\n        date_list2.append(init_date.replace(\"00\", \"20\", 1))\n    else:\n        date_list2.append(init_date)\n        \ndate_list2[:10]",
      "execution_count": 53,
      "outputs": [
        {
          "data": {
            "text/plain": "['2002-12-26',\n '2003-03-25',\n '2003-03-25',\n '2004-01-27',\n '2003-12-10',\n '2004-01-27',\n '2003-03-20',\n '2003-08-08',\n '2000-11-16',\n '2002-10-31']"
          },
          "execution_count": 53,
          "metadata": {},
          "output_type": "execute_result"
        }
      ]
    },
    {
      "cell_type": "markdown",
      "source": "## 3. How do you know the changes were successful?",
      "metadata": {
        "cell_id": "00026-0f5c38b0-8f1f-4b6d-b36c-f1f0cf81c660",
        "deepnote_cell_type": "markdown"
      }
    },
    {
      "cell_type": "markdown",
      "source": "### Method one \nFind the new unique list of years",
      "metadata": {
        "cell_id": "00027-12beb055-92c2-447f-88b3-00bba2ba4c2e",
        "deepnote_cell_type": "markdown"
      }
    },
    {
      "cell_type": "code",
      "metadata": {
        "cell_id": "00028-28bfb675-36cb-42f9-bb8b-976f09120600",
        "deepnote_cell_type": "code"
      },
      "source": "year_list2 = [x.split(\"-\")[0] for x in date_list2]\nset(year_list2)",
      "execution_count": 54,
      "outputs": [
        {
          "data": {
            "text/plain": "{'1997',\n '1998',\n '2000',\n '2001',\n '2002',\n '2003',\n '2004',\n '2005',\n '2006',\n '2007',\n '2008',\n '2009',\n '2010',\n '2011',\n '2012',\n '2013',\n '2014',\n '2015',\n '2016',\n '2017',\n '2018',\n '2019',\n '2020'}"
          },
          "execution_count": 54,
          "metadata": {},
          "output_type": "execute_result"
        }
      ]
    },
    {
      "cell_type": "markdown",
      "source": "### Method two\nRewrite the previous block of code to display conversion results.",
      "metadata": {
        "cell_id": "00029-5faea6a2-f750-4b39-bc3f-151c983643e7",
        "deepnote_cell_type": "markdown"
      }
    },
    {
      "cell_type": "code",
      "metadata": {
        "cell_id": "00030-fa8e24d5-59d3-4184-af83-ce7a83d931a0",
        "deepnote_cell_type": "code"
      },
      "source": "date_list2 = []\n\nfor i in range(len(date_list)):\n    init_date = date_list[i]\n    if init_date.startswith(\"00\"):\n        print(f\"found and corrected problemtic date {init_date} at position {i}\")\n        date_list2.append(init_date.replace(\"00\", \"20\", 1))\n    else:\n        date_list2.append(init_date)",
      "execution_count": 55,
      "outputs": [
        {
          "name": "stdout",
          "output_type": "stream",
          "text": "found and corrected problemtic date 0012-12-06 at position 2290\nfound and corrected problemtic date 0013-11-26 at position 2344\nfound and corrected problemtic date 0012-11-30 at position 2432\nfound and corrected problemtic date 0013-05-16 at position 5267\nfound and corrected problemtic date 0013-03-05 at position 6045\nfound and corrected problemtic date 0013-05-16 at position 6801\nfound and corrected problemtic date 0012-12-13 at position 19636\nfound and corrected problemtic date 0013-04-12 at position 19910\nfound and corrected problemtic date 0013-03-05 at position 25453\nfound and corrected problemtic date 0013-11-25 at position 27812\nfound and corrected problemtic date 0013-12-13 at position 27855\nfound and corrected problemtic date 0013-04-11 at position 29256\nfound and corrected problemtic date 0013-03-05 at position 32382\nfound and corrected problemtic date 0013-04-12 at position 33046\nfound and corrected problemtic date 0010-08-17 at position 36031\nfound and corrected problemtic date 0013-03-05 at position 36657\nfound and corrected problemtic date 0013-03-05 at position 41312\nfound and corrected problemtic date 0013-03-05 at position 41340\nfound and corrected problemtic date 0013-03-05 at position 41345\nfound and corrected problemtic date 0013-03-05 at position 41657\nfound and corrected problemtic date 0013-03-05 at position 41681\n"
        }
      ]
    },
    {
      "cell_type": "code",
      "metadata": {
        "cell_id": "00031-4706cab3-51df-476a-bb05-3b63d05bdd22",
        "deepnote_cell_type": "code"
      },
      "source": "print(f\"The old date is {date_list[41681]}\")",
      "execution_count": 56,
      "outputs": [
        {
          "name": "stdout",
          "output_type": "stream",
          "text": "The old date is 0013-03-05\n"
        }
      ]
    },
    {
      "cell_type": "code",
      "metadata": {
        "cell_id": "00032-2b14a718-7c74-419f-9f1b-968405b62dcd",
        "deepnote_cell_type": "code"
      },
      "source": "print(f\"The old date is {date_list2[41681]}\")",
      "execution_count": 57,
      "outputs": [
        {
          "name": "stdout",
          "output_type": "stream",
          "text": "The old date is 2013-03-05\n"
        }
      ]
    },
    {
      "cell_type": "markdown",
      "source": "### Method three\nCompare the two lists and display the differences",
      "metadata": {
        "cell_id": "00033-e1c67eb0-1b04-4f0c-9f8c-ec702630681a",
        "deepnote_cell_type": "markdown"
      }
    },
    {
      "cell_type": "code",
      "metadata": {
        "cell_id": "00034-35c7d43b-5eef-49ed-9da2-63e3ec2e4ab0",
        "deepnote_cell_type": "code"
      },
      "source": "for i in range(len(date_list)):\n    if date_list[i] != date_list2[i]:\n        print(date_list[i], \"->\", date_list2[i])",
      "execution_count": 58,
      "outputs": [
        {
          "name": "stdout",
          "output_type": "stream",
          "text": "0012-12-06 -> 2012-12-06\n0013-11-26 -> 2013-11-26\n0012-11-30 -> 2012-11-30\n0013-05-16 -> 2013-05-16\n0013-03-05 -> 2013-03-05\n0013-05-16 -> 2013-05-16\n0012-12-13 -> 2012-12-13\n0013-04-12 -> 2013-04-12\n0013-03-05 -> 2013-03-05\n0013-11-25 -> 2013-11-25\n0013-12-13 -> 2013-12-13\n0013-04-11 -> 2013-04-11\n0013-03-05 -> 2013-03-05\n0013-04-12 -> 2013-04-12\n0010-08-17 -> 2010-08-17\n0013-03-05 -> 2013-03-05\n0013-03-05 -> 2013-03-05\n0013-03-05 -> 2013-03-05\n0013-03-05 -> 2013-03-05\n0013-03-05 -> 2013-03-05\n0013-03-05 -> 2013-03-05\n"
        }
      ]
    },
    {
      "cell_type": "markdown",
      "source": "## 4. Saved the corrected data to a file",
      "metadata": {
        "cell_id": "00035-8f0bd11e-9b63-4bfe-8ff8-98a7dd7588cb",
        "deepnote_cell_type": "markdown"
      }
    },
    {
      "cell_type": "markdown",
      "source": "**Save the data to a text file**\n- Option \"w\" for write\n- Option \"t\" for text",
      "metadata": {
        "cell_id": "00036-dee16bd2-26b4-4608-8f2b-7dd9f6688b53",
        "deepnote_cell_type": "markdown"
      }
    },
    {
      "cell_type": "code",
      "metadata": {
        "cell_id": "00037-83f49e71-bb42-4c13-a185-d2a97e1800d9",
        "deepnote_cell_type": "code"
      },
      "source": "with open(\"event_date_initiated_corrected.csv\", \"wt\") as f:\n    f.write(\"\\n\".join(date_list2))",
      "execution_count": 59,
      "outputs": []
    },
    {
      "cell_type": "markdown",
      "source": "**Read the saved file back in to make sure it works.**",
      "metadata": {
        "cell_id": "00038-66e1603a-249f-4e30-8e63-557e963db8b4",
        "deepnote_cell_type": "markdown"
      }
    },
    {
      "cell_type": "code",
      "metadata": {
        "cell_id": "00039-89e0e152-1270-4c5c-b248-fb6e2badcb2a",
        "deepnote_cell_type": "code"
      },
      "source": "with open(\"event_date_initiated_corrected.csv\") as f:\n    corrected_date_list = f.readlines() \n    \ncorrected_date_list[:5]",
      "execution_count": 60,
      "outputs": [
        {
          "data": {
            "text/plain": "['2002-12-26\\n',\n '2003-03-25\\n',\n '2003-03-25\\n',\n '2004-01-27\\n',\n '2003-12-10\\n']"
          },
          "execution_count": 60,
          "metadata": {},
          "output_type": "execute_result"
        }
      ]
    },
    {
      "cell_type": "markdown",
      "source": "<a style='text-decoration:none;line-height:16px;display:flex;color:#5B5B62;padding:10px;justify-content:end;' href='https://deepnote.com?utm_source=created-in-deepnote-cell&projectId=d6dd3d4a-0a86-4798-8e4d-ea84481681f7' target=\"_blank\">\n<img alt='Created in deepnote.com' style='display:inline;max-height:16px;margin:0px;margin-right:7.5px;' src='data:image/svg+xml;base64,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' > </img>\nCreated in <span style='font-weight:600;margin-left:4px;'>Deepnote</span></a>",
      "metadata": {
        "tags": [],
        "created_in_deepnote_cell": true,
        "deepnote_cell_type": "markdown"
      }
    }
  ],
  "nbformat": 4,
  "nbformat_minor": 4,
  "metadata": {
    "kernelspec": {
      "display_name": "Python 3",
      "language": "python",
      "name": "python3"
    },
    "language_info": {
      "codemirror_mode": {
        "name": "ipython",
        "version": 3
      },
      "file_extension": ".py",
      "mimetype": "text/x-python",
      "name": "python",
      "nbconvert_exporter": "python",
      "pygments_lexer": "ipython3",
      "version": "3.8.6"
    },
    "deepnote_notebook_id": "41c8dc83-6352-4e71-8693-294af8056bc5",
    "deepnote": {},
    "deepnote_execution_queue": []
  }
}